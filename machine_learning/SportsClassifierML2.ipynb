{
  "cells": [
    {
      "cell_type": "code",
      "execution_count": 23,
      "id": "d7557d2a",
      "metadata": {
        "id": "d7557d2a"
      },
      "outputs": [],
      "source": [
        "from sklearn.preprocessing import LabelEncoder\n",
        "from sklearn.model_selection import train_test_split, cross_val_score, validation_curve, StratifiedKFold\n",
        "from sklearn.feature_extraction.text import TfidfVectorizer\n",
        "from sklearn.svm import LinearSVC, SVC\n",
        "from sklearn.neighbors import KNeighborsClassifier\n",
        "from sklearn.linear_model import LogisticRegression\n",
        "from sklearn.ensemble import RandomForestClassifier\n",
        "from sklearn.metrics import classification_report\n",
        "import pandas as pd\n",
        "import matplotlib.pyplot as plt\n",
        "import numpy as np\n",
        "\n"
      ]
    },
    {
      "cell_type": "code",
      "execution_count": 24,
      "id": "5eb03fd6",
      "metadata": {
        "id": "5eb03fd6"
      },
      "outputs": [],
      "source": [
        "enc = LabelEncoder()\n",
        "\n",
        "sports_tweets = pd.read_csv(\"CleanedSportsTweets2.csv\")\n",
        "\n",
        "# Encode the Sport feature using a new column labeled \"Sport_Cat\"\n",
        "sports_tweets[\"Sport_Cat\"] = enc.fit_transform(sports_tweets[\"Sport\"])"
      ]
    },
    {
      "cell_type": "code",
      "execution_count": 25,
      "id": "8ae97678",
      "metadata": {
        "id": "8ae97678"
      },
      "outputs": [],
      "source": [
        "X = sports_tweets[\"Tweet\"]\n",
        "y = sports_tweets[\"Sport_Cat\"]\n",
        "\n",
        "# Create the Vectorizer that uses both unigrams and bigrams with tuple (1, 2)\n",
        "tfidf = TfidfVectorizer(max_features=1000, ngram_range=(1, 2))"
      ]
    },
    {
      "cell_type": "code",
      "execution_count": 26,
      "id": "908c40bc",
      "metadata": {
        "id": "908c40bc"
      },
      "outputs": [],
      "source": [
        "# Create x_fit which holds the fitted x to include those unigrams and bigrams\n",
        "X_fit = tfidf.fit_transform(X)\n",
        "\n",
        "# Use Stratified K Fold with 10 folds to use for cross validation\n",
        "skfold = StratifiedKFold(n_splits = 10)"
      ]
    },
    {
      "cell_type": "code",
      "execution_count": 27,
      "id": "ac4a02bc",
      "metadata": {
        "id": "ac4a02bc"
      },
      "outputs": [],
      "source": [
        "# Create the classifiers\n",
        "lin_svc = LinearSVC()\n",
        "rbf_svc = SVC()\n",
        "knn = KNeighborsClassifier()\n",
        "log_reg = LogisticRegression()\n",
        "rfc = RandomForestClassifier(n_estimators=50)"
      ]
    },
    {
      "cell_type": "code",
      "execution_count": 28,
      "id": "66aec321",
      "metadata": {
        "id": "66aec321"
      },
      "outputs": [],
      "source": [
        "def average(arr) -> float:\n",
        "    # Returns the average of the array, arr, as a float\n",
        "    return sum(arr) / len(arr)"
      ]
    },
    {
      "cell_type": "code",
      "execution_count": 29,
      "id": "a27e4c35",
      "metadata": {
        "id": "a27e4c35"
      },
      "outputs": [],
      "source": [
        "# Split the data with an 80-20% split for training and testing where the model exclusively uses the 80% training data\n",
        "\n",
        "X_train, X_test, y_train, y_test = train_test_split(X_fit, y, test_size=0.2)"
      ]
    },
    {
      "cell_type": "code",
      "execution_count": 30,
      "id": "9dceb86b",
      "metadata": {
        "colab": {
          "base_uri": "https://localhost:8080/"
        },
        "id": "9dceb86b",
        "outputId": "7570d1fd-e7de-4f8c-c629-e1b6a40cbc37"
      },
      "outputs": [],
      "source": [
        "# Test each classifier with cross validation using Stratified K Fold with the 80% training data\n",
        "lin_svc_scores = cross_val_score(lin_svc, X_train, y_train, cv=skfold)\n",
        "rbf_svc_scores = cross_val_score(rbf_svc, X_train, y_train, cv=skfold)\n",
        "knn_scores = cross_val_score(knn, X_train, y_train, cv=skfold)\n",
        "log_reg_scores = cross_val_score(log_reg, X_train, y_train, cv=skfold)\n",
        "rfc_scores = cross_val_score(rfc, X_train, y_train, cv=skfold)\n"
      ]
    },
    {
      "cell_type": "code",
      "execution_count": 31,
      "id": "06838a33",
      "metadata": {
        "id": "06838a33"
      },
      "outputs": [
        {
          "data": {
            "text/plain": [
              "'Random Forest Classifier'"
            ]
          },
          "execution_count": 31,
          "metadata": {},
          "output_type": "execute_result"
        }
      ],
      "source": [
        "# Create functions to choose the highest performing model\n",
        "def choose_classifier(lin_svc, rbf_svc, knn, log_reg, rfc):\n",
        "    empty_dict = {}\n",
        "    empty_dict[\"lin_svc\"] = average(lin_svc_scores)\n",
        "    empty_dict[\"rbf_svc\"] = average(rbf_svc_scores)\n",
        "    empty_dict[\"knn\"] = average(knn_scores)\n",
        "    empty_dict[\"log\"] = average(log_reg_scores)\n",
        "    empty_dict[\"rfc\"] = average(rfc_scores)\n",
        "\n",
        "    return string_to_classifier(max(empty_dict, key=empty_dict.get))\n",
        "\n",
        "def string_to_classifier(string):\n",
        "    if string == \"lin_svc\":\n",
        "        return \"Linear SVC Classifier\"\n",
        "    elif string == \"rbf_svc\":\n",
        "        return \"RBF Kernel SVM Classifier\"\n",
        "    elif string == \"knn\":\n",
        "        return \"K-Nearest Neighbors Classifier\"\n",
        "    elif string == \"log\":\n",
        "        return \"Logarithmic Regression Classifier\"\n",
        "    elif string == \"rfc\":\n",
        "        return \"Random Forest Classifier\"\n",
        "# Choose correct classifier with the highest average score\n",
        "classifier_str = choose_classifier(lin_svc, rbf_svc, knn, log_reg, rfc)\n",
        "classifier_str"
      ]
    },
    {
      "cell_type": "code",
      "execution_count": 32,
      "id": "da74fafd",
      "metadata": {},
      "outputs": [],
      "source": [
        "# Since the Random Forest Classifier was the highest performing model\n",
        "# We need to tune the hyperparameters for it to return the highest accuracy with 3 folds\n",
        "# Specifically the n_estimaters paramater will be used to find the correct one\n",
        "\n",
        "n_estimators = [10, 30, 50, 75, 100, 200, 300, 400, 500]\n",
        "\n",
        "train_scores_n_estimators, test_scores_n_estimators = validation_curve(\n",
        "                                RandomForestClassifier(),\n",
        "                                X = X_train, y = y_train, \n",
        "                                param_name = 'n_estimators', \n",
        "                                param_range = n_estimators, cv = 3)\n",
        "\n",
        "# Create a list of hyperparamaters to use\n",
        "chosen_hyperparameters = []\n"
      ]
    },
    {
      "cell_type": "code",
      "execution_count": 33,
      "id": "01a3925c",
      "metadata": {},
      "outputs": [
        {
          "data": {
            "image/png": "[encoded data removed]",
            "text/plain": [
              "<Figure size 640x480 with 1 Axes>"
            ]
          },
          "metadata": {},
          "output_type": "display_data"
        }
      ],
      "source": [
        "# Create a graph plotting these scores\n",
        "train_scores_mean_n_estimators = np.mean(train_scores_n_estimators, axis=1)\n",
        "train_scores_std_n_estimators = np.std(train_scores_n_estimators, axis=1)\n",
        "test_scores_mean_n_estimators = np.mean(test_scores_n_estimators, axis=1)\n",
        "test_scores_std_n_estimators = np.std(test_scores_n_estimators, axis=1)\n",
        "\n",
        "\n",
        "plt.title(\"Validation Curve with Random Forest N_Estimators\")\n",
        "plt.xlabel(r\"$\\gamma$\")\n",
        "plt.ylabel(\"Score\")\n",
        "plt.ylim(0.79, 1.0)\n",
        "lw = 2\n",
        "plt.semilogx(\n",
        "    n_estimators, train_scores_mean_n_estimators, label=\"Training score\", color=\"darkorange\", lw=lw\n",
        ")\n",
        "plt.fill_between(\n",
        "    n_estimators,\n",
        "    train_scores_mean_n_estimators - train_scores_std_n_estimators,\n",
        "    train_scores_mean_n_estimators + train_scores_std_n_estimators,\n",
        "    alpha=0.2,\n",
        "    color=\"darkorange\",\n",
        "    lw=lw,\n",
        ")\n",
        "plt.semilogx(\n",
        "    n_estimators, test_scores_mean_n_estimators, label=\"Cross-validation score\", color=\"navy\", lw=lw\n",
        ")\n",
        "plt.fill_between(\n",
        "    n_estimators,\n",
        "    test_scores_mean_n_estimators - test_scores_std_n_estimators,\n",
        "    test_scores_mean_n_estimators + test_scores_std_n_estimators,\n",
        "    alpha=0.2,\n",
        "    color=\"navy\",\n",
        "    lw=lw,\n",
        ")\n",
        "plt.legend(loc=\"best\")\n",
        "plt.show()\n"
      ]
    },
    {
      "cell_type": "code",
      "execution_count": 34,
      "id": "48a8f2ca",
      "metadata": {},
      "outputs": [
        {
          "data": {
            "text/plain": [
              "400"
            ]
          },
          "execution_count": 34,
          "metadata": {},
          "output_type": "execute_result"
        }
      ],
      "source": [
        "# Within the graph above we can see that the score stabilizes after the n_estimators count reaches around 100\n",
        "# So any n_estimators after 100 will sufifce but we will grab the highest score just to be safe\n",
        "# Gets the index of the highest n_estimator\n",
        "list_test_score_mean_n_estimators = test_scores_mean_n_estimators.tolist()\n",
        "max_index = list_test_score_mean_n_estimators.index(max(list_test_score_mean_n_estimators))\n",
        "\n",
        "# Assign chosen_n_estimator to be equal to the highest performing n_estimator\n",
        "chosen_n_estimator = n_estimators[max_index]\n",
        "\n",
        "chosen_hyperparameters.append(chosen_n_estimator)\n",
        "\n",
        "chosen_n_estimator"
      ]
    },
    {
      "cell_type": "code",
      "execution_count": 35,
      "id": "7e96d282",
      "metadata": {},
      "outputs": [],
      "source": [
        "# Performing similar actions for max_depth hyperparameter\n",
        "max_depths = [25, 30, 40, 45, 50, 60, 65, 75, 80, 90, 100]\n",
        "\n",
        "train_scores_depth, test_scores_depth = validation_curve(\n",
        "                                RandomForestClassifier(),\n",
        "                                X = X_train, y = y_train, \n",
        "                                param_name = 'max_depth', \n",
        "                                param_range = max_depths, cv = 5)\n",
        "\n"
      ]
    },
    {
      "cell_type": "code",
      "execution_count": 36,
      "id": "6783761f",
      "metadata": {},
      "outputs": [],
      "source": [
        "test_scores_mean_depth = np.mean(test_scores_depth, axis=1)\n",
        "\n",
        "list_test_score_mean_depth = test_scores_mean_depth.tolist()\n",
        "max_index = list_test_score_mean_depth.index(max(list_test_score_mean_depth))\n",
        "\n",
        "chosen_hyperparameters.append(max_depths[max_index])"
      ]
    },
    {
      "cell_type": "code",
      "execution_count": 37,
      "id": "2f5cfc54",
      "metadata": {},
      "outputs": [],
      "source": [
        "# Performing similar actions for min_samples_split hyperparameter\n",
        "min_sample_splits = [1, 2, 3, 5, 10, 15, 20, 25, 30]\n",
        "\n",
        "train_scores_split, test_scores_split = validation_curve(\n",
        "                                RandomForestClassifier(),\n",
        "                                X = X_train, y = y_train, \n",
        "                                param_name = 'min_samples_split', \n",
        "                                param_range = min_sample_splits, cv = 5)\n"
      ]
    },
    {
      "cell_type": "code",
      "execution_count": 38,
      "id": "90852b7f",
      "metadata": {},
      "outputs": [],
      "source": [
        "test_scores_mean_split = np.mean(test_scores_split, axis=1)\n",
        "\n",
        "list_test_score_mean_split = test_scores_mean_split.tolist()\n",
        "max_index = list_test_score_mean_split.index(max(list_test_score_mean_split))\n",
        "\n",
        "chosen_hyperparameters.append(min_sample_splits[max_index])"
      ]
    },
    {
      "cell_type": "code",
      "execution_count": 39,
      "id": "b411f127",
      "metadata": {},
      "outputs": [],
      "source": [
        "# Performing similar actions for min_samples_leaf hyperparameter\n",
        "min_sample_leafs = [1, 2, 3, 4, 5, 6, 7, 8, 10, 15]\n",
        "\n",
        "train_scores_leafs, test_scores_leafs = validation_curve(\n",
        "                                RandomForestClassifier(),\n",
        "                                X = X_train, y = y_train, \n",
        "                                param_name = 'min_samples_leaf', \n",
        "                                param_range = min_sample_leafs, cv = 5)"
      ]
    },
    {
      "cell_type": "code",
      "execution_count": 40,
      "id": "bfc3083a",
      "metadata": {},
      "outputs": [],
      "source": [
        "train_score_mean_leafs = np.mean(train_scores_leafs, axis=1)\n",
        "test_scores_mean_leafs = np.mean(test_scores_leafs, axis=1)\n",
        "\n",
        "list_test_score_mean_leafs = test_scores_mean_leafs.tolist()\n",
        "max_index = list_test_score_mean_leafs.index(max(list_test_score_mean_leafs))\n",
        "\n",
        "chosen_hyperparameters.append(min_sample_leafs[max_index])"
      ]
    },
    {
      "cell_type": "code",
      "execution_count": 41,
      "id": "95d2b433",
      "metadata": {},
      "outputs": [],
      "source": [
        "# Create the Random Forest Classifier with the selected n_estimator hyperparameter\n",
        "classifier = RandomForestClassifier(n_estimators=chosen_hyperparameters[0], max_depth=chosen_hyperparameters[1], min_samples_split=chosen_hyperparameters[2], min_samples_leaf=chosen_hyperparameters[3])"
      ]
    },
    {
      "cell_type": "code",
      "execution_count": 42,
      "id": "25dbae7c",
      "metadata": {
        "id": "25dbae7c"
      },
      "outputs": [],
      "source": [
        "# Use the training data to fit the chosen classifier model \n",
        "X = classifier.fit(X_train, y_train)\n",
        "X.score(X_test, y_test)\n",
        "\n",
        "# Use the model to predict the testing data\n",
        "y_pred = classifier.predict(X_test)\n"
      ]
    },
    {
      "cell_type": "code",
      "execution_count": 43,
      "id": "dab30a1f",
      "metadata": {
        "colab": {
          "base_uri": "https://localhost:8080/"
        },
        "id": "dab30a1f",
        "outputId": "079fc331-755b-4846-c8b0-fc27e5d3fb1f"
      },
      "outputs": [
        {
          "name": "stdout",
          "output_type": "stream",
          "text": [
            "              precision    recall  f1-score   support\n",
            "\n",
            "           0       0.84      0.66      0.74       191\n",
            "           1       0.96      0.73      0.83        71\n",
            "           2       0.78      0.98      0.87       461\n",
            "           3       0.98      0.70      0.81        82\n",
            "           4       0.89      0.67      0.77       163\n",
            "\n",
            "    accuracy                           0.83       968\n",
            "   macro avg       0.89      0.75      0.81       968\n",
            "weighted avg       0.84      0.83      0.82       968\n",
            "\n"
          ]
        }
      ],
      "source": [
        "# Compare the predictions to the actual output/label\n",
        "print(classification_report(y_test, y_pred))"
      ]
    }
  ],
  "metadata": {
    "colab": {
      "provenance": []
    },
    "kernelspec": {
      "display_name": "Python 3",
      "language": "python",
      "name": "python3"
    },
    "language_info": {
      "codemirror_mode": {
        "name": "ipython",
        "version": 3
      },
      "file_extension": ".py",
      "mimetype": "text/x-python",
      "name": "python",
      "nbconvert_exporter": "python",
      "pygments_lexer": "ipython3",
      "version": "3.11.1"
    },
    "vscode": {
      "interpreter": {
        "hash": "5238573367df39f7286bb46f9ff5f08f63a01a80960060ce41e3c79b190280fa"
      }
    }
  },
  "nbformat": 4,
  "nbformat_minor": 5
}
