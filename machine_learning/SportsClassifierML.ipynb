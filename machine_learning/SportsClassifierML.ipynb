{
  "cells": [
    {
      "cell_type": "code",
      "execution_count": 1,
      "id": "d7557d2a",
      "metadata": {
        "id": "d7557d2a"
      },
      "outputs": [],
      "source": [
        "from sklearn.preprocessing import LabelEncoder\n",
        "from sklearn.model_selection import train_test_split, cross_val_score, StratifiedKFold\n",
        "from sklearn.feature_extraction.text import TfidfVectorizer\n",
        "from sklearn.svm import LinearSVC, SVC\n",
        "from sklearn.neighbors import KNeighborsClassifier\n",
        "from sklearn.linear_model import LogisticRegression\n",
        "from sklearn.ensemble import RandomForestClassifier\n",
        "from sklearn.neural_network import MLPClassifier\n",
        "from sklearn.metrics import classification_report\n",
        "import pandas as pd\n"
      ]
    },
    {
      "cell_type": "code",
      "execution_count": 2,
      "id": "5eb03fd6",
      "metadata": {
        "id": "5eb03fd6"
      },
      "outputs": [],
      "source": [
        "enc = LabelEncoder()\n",
        "\n",
        "sports_tweets = pd.read_csv(\"CleanedSportsTweets.csv\")\n",
        "\n",
        "# Encode the Sport feature using a new column labeled \"Sport_Cat\"\n",
        "sports_tweets[\"Sport_Cat\"] = enc.fit_transform(sports_tweets[\"Sport\"])"
      ]
    },
    {
      "cell_type": "code",
      "execution_count": 3,
      "id": "8ae97678",
      "metadata": {
        "id": "8ae97678"
      },
      "outputs": [],
      "source": [
        "x = sports_tweets[\"Tweet\"]\n",
        "y = sports_tweets[\"Sport_Cat\"]\n",
        "\n",
        "# Create the Vectorizer that uses both unigrams and bigrams with tuple (1, 2)\n",
        "tfidf = TfidfVectorizer(max_features=1000, ngram_range=(1, 2))"
      ]
    },
    {
      "cell_type": "code",
      "execution_count": 4,
      "id": "908c40bc",
      "metadata": {
        "id": "908c40bc"
      },
      "outputs": [],
      "source": [
        "# Change X to include those unigrams and bigrams\n",
        "x_fit = tfidf.fit_transform(x)\n",
        "\n",
        "# Split the data\n",
        "# x_train, x_test, y_train, y_test = train_test_split(x_fit, y, test_size=0.2)\n",
        "skfold = StratifiedKFold(n_splits = 10)"
      ]
    },
    {
      "cell_type": "code",
      "execution_count": 5,
      "id": "ac4a02bc",
      "metadata": {
        "id": "ac4a02bc"
      },
      "outputs": [],
      "source": [
        "lin_svc = LinearSVC()\n",
        "rbf_svc = SVC()\n",
        "knn = KNeighborsClassifier()\n",
        "log_reg = LogisticRegression()\n",
        "rfc = RandomForestClassifier(n_estimators=50)\n",
        "mlp = MLPClassifier()"
      ]
    },
    {
      "cell_type": "code",
      "execution_count": 6,
      "id": "66aec321",
      "metadata": {
        "id": "66aec321"
      },
      "outputs": [],
      "source": [
        "def average(arr) -> float:\n",
        "    # Returns the average of the array, arr, as a float\n",
        "    return sum(arr) / len(arr)"
      ]
    },
    {
      "cell_type": "code",
      "execution_count": 7,
      "id": "9dceb86b",
      "metadata": {
        "colab": {
          "base_uri": "https://localhost:8080/"
        },
        "id": "9dceb86b",
        "outputId": "7570d1fd-e7de-4f8c-c629-e1b6a40cbc37"
      },
      "outputs": [
        {
          "output_type": "stream",
          "name": "stderr",
          "text": [
            "/usr/local/lib/python3.8/dist-packages/sklearn/neural_network/_multilayer_perceptron.py:692: ConvergenceWarning: Stochastic Optimizer: Maximum iterations (200) reached and the optimization hasn't converged yet.\n",
            "  warnings.warn(\n",
            "/usr/local/lib/python3.8/dist-packages/sklearn/neural_network/_multilayer_perceptron.py:692: ConvergenceWarning: Stochastic Optimizer: Maximum iterations (200) reached and the optimization hasn't converged yet.\n",
            "  warnings.warn(\n",
            "/usr/local/lib/python3.8/dist-packages/sklearn/neural_network/_multilayer_perceptron.py:692: ConvergenceWarning: Stochastic Optimizer: Maximum iterations (200) reached and the optimization hasn't converged yet.\n",
            "  warnings.warn(\n",
            "/usr/local/lib/python3.8/dist-packages/sklearn/neural_network/_multilayer_perceptron.py:692: ConvergenceWarning: Stochastic Optimizer: Maximum iterations (200) reached and the optimization hasn't converged yet.\n",
            "  warnings.warn(\n",
            "/usr/local/lib/python3.8/dist-packages/sklearn/neural_network/_multilayer_perceptron.py:692: ConvergenceWarning: Stochastic Optimizer: Maximum iterations (200) reached and the optimization hasn't converged yet.\n",
            "  warnings.warn(\n",
            "/usr/local/lib/python3.8/dist-packages/sklearn/neural_network/_multilayer_perceptron.py:692: ConvergenceWarning: Stochastic Optimizer: Maximum iterations (200) reached and the optimization hasn't converged yet.\n",
            "  warnings.warn(\n",
            "/usr/local/lib/python3.8/dist-packages/sklearn/neural_network/_multilayer_perceptron.py:692: ConvergenceWarning: Stochastic Optimizer: Maximum iterations (200) reached and the optimization hasn't converged yet.\n",
            "  warnings.warn(\n",
            "/usr/local/lib/python3.8/dist-packages/sklearn/neural_network/_multilayer_perceptron.py:692: ConvergenceWarning: Stochastic Optimizer: Maximum iterations (200) reached and the optimization hasn't converged yet.\n",
            "  warnings.warn(\n",
            "/usr/local/lib/python3.8/dist-packages/sklearn/neural_network/_multilayer_perceptron.py:692: ConvergenceWarning: Stochastic Optimizer: Maximum iterations (200) reached and the optimization hasn't converged yet.\n",
            "  warnings.warn(\n",
            "/usr/local/lib/python3.8/dist-packages/sklearn/neural_network/_multilayer_perceptron.py:692: ConvergenceWarning: Stochastic Optimizer: Maximum iterations (200) reached and the optimization hasn't converged yet.\n",
            "  warnings.warn(\n"
          ]
        }
      ],
      "source": [
        "# # Test the data\n",
        "lin_svc_scores = cross_val_score(lin_svc, x_fit, y, cv=skfold)\n",
        "rbf_svc_scores = cross_val_score(rbf_svc, x_fit, y, cv=skfold)\n",
        "knn_scores = cross_val_score(knn, x_fit, y, cv=skfold)\n",
        "log_reg_scores = cross_val_score(log_reg, x_fit, y, cv=skfold)\n",
        "rfc_scores = cross_val_score(rfc, x_fit, y, cv=skfold)\n",
        "mlp_scores = cross_val_score(mlp, x_fit, y, cv=skfold)\n"
      ]
    },
    {
      "cell_type": "code",
      "execution_count": 14,
      "id": "06838a33",
      "metadata": {
        "id": "06838a33"
      },
      "outputs": [],
      "source": [
        "def choose_classifier(lin_svc, rbf_svc, knn, log_reg, rfc, mlp):\n",
        "    empty_dict = {}\n",
        "    empty_dict[\"lin_svc\"] = average(lin_svc_scores)\n",
        "    empty_dict[\"rbf_svc\"] = average(rbf_svc_scores)\n",
        "    empty_dict[\"knn\"] = average(knn_scores)\n",
        "    empty_dict[\"log\"] = average(log_reg_scores)\n",
        "    empty_dict[\"rfc\"] = average(rfc_scores)\n",
        "    empty_dict[\"mlp\"] = average(mlp_scores)\n",
        "\n",
        "    return string_to_classifier(max(empty_dict, key=empty_dict.get))\n",
        "\n",
        "def string_to_classifier(string):\n",
        "    if string == \"lin_svc\":\n",
        "        return lin_svc\n",
        "    elif string == \"rbf_svc\":\n",
        "        return rbf_svc\n",
        "    elif string == \"knn\":\n",
        "        return knn\n",
        "    elif string == \"log\":\n",
        "        return log_reg\n",
        "    elif string == \"rfc\":\n",
        "        return rfc\n",
        "    elif string == \"mlp\":\n",
        "        return mlp\n",
        "\n",
        "# Choose correct classifier\n",
        "classifier = choose_classifier(lin_svc, rbf_svc, knn, log_reg, rfc, mlp)"
      ]
    },
    {
      "cell_type": "code",
      "execution_count": 24,
      "id": "a27e4c35",
      "metadata": {
        "id": "a27e4c35"
      },
      "outputs": [],
      "source": [
        "# Once classifier is chosen then split the data into training and testing\n",
        "\n",
        "x_train, x_test, y_train, y_test = train_test_split(x_fit, y, test_size=0.2, random_state=2)"
      ]
    },
    {
      "cell_type": "code",
      "execution_count": 25,
      "id": "25dbae7c",
      "metadata": {
        "id": "25dbae7c"
      },
      "outputs": [],
      "source": [
        "x = classifier.fit(x_train, y_train)\n",
        "x.score(x_test, y_test)\n",
        "\n",
        "y_pred = classifier.predict(x_test)\n"
      ]
    },
    {
      "cell_type": "code",
      "execution_count": 26,
      "id": "dab30a1f",
      "metadata": {
        "id": "dab30a1f",
        "outputId": "079fc331-755b-4846-c8b0-fc27e5d3fb1f",
        "colab": {
          "base_uri": "https://localhost:8080/"
        }
      },
      "outputs": [
        {
          "output_type": "stream",
          "name": "stdout",
          "text": [
            "              precision    recall  f1-score   support\n",
            "\n",
            "           0       0.87      0.74      0.80        99\n",
            "           1       1.00      0.57      0.72        30\n",
            "           2       0.85      0.98      0.91       256\n",
            "           3       1.00      0.60      0.75         5\n",
            "           4       0.88      0.70      0.78        60\n",
            "\n",
            "    accuracy                           0.86       450\n",
            "   macro avg       0.92      0.72      0.79       450\n",
            "weighted avg       0.87      0.86      0.85       450\n",
            "\n"
          ]
        }
      ],
      "source": [
        "print(classification_report(y_test, y_pred))"
      ]
    }
  ],
  "metadata": {
    "kernelspec": {
      "display_name": "Python 3",
      "language": "python",
      "name": "python3"
    },
    "language_info": {
      "codemirror_mode": {
        "name": "ipython",
        "version": 3
      },
      "file_extension": ".py",
      "mimetype": "text/x-python",
      "name": "python",
      "nbconvert_exporter": "python",
      "pygments_lexer": "ipython3",
      "version": "3.11.1"
    },
    "vscode": {
      "interpreter": {
        "hash": "5238573367df39f7286bb46f9ff5f08f63a01a80960060ce41e3c79b190280fa"
      }
    },
    "colab": {
      "provenance": []
    }
  },
  "nbformat": 4,
  "nbformat_minor": 5
}
